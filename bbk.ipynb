{
 "cells": [
  {
   "cell_type": "code",
   "execution_count": 1,
   "metadata": {},
   "outputs": [],
   "source": [
    "# importing all required library\n",
    "import numpy as np\n",
    "import pandas as pd\n",
    "import matplotlib.pyplot as plt\n",
    "%matplotlib inline"
   ]
  },
  {
   "cell_type": "code",
   "execution_count": 115,
   "metadata": {},
   "outputs": [],
   "source": [
    "df = pd.read_csv(\"bbk.csv\")"
   ]
  },
  {
   "cell_type": "code",
   "execution_count": 117,
   "metadata": {},
   "outputs": [
    {
     "data": {
      "text/html": [
       "<div>\n",
       "<style scoped>\n",
       "    .dataframe tbody tr th:only-of-type {\n",
       "        vertical-align: middle;\n",
       "    }\n",
       "\n",
       "    .dataframe tbody tr th {\n",
       "        vertical-align: top;\n",
       "    }\n",
       "\n",
       "    .dataframe thead th {\n",
       "        text-align: right;\n",
       "    }\n",
       "</style>\n",
       "<table border=\"1\" class=\"dataframe\">\n",
       "  <thead>\n",
       "    <tr style=\"text-align: right;\">\n",
       "      <th></th>\n",
       "      <th>Brand</th>\n",
       "      <th>Model</th>\n",
       "      <th>Color</th>\n",
       "      <th>Memory</th>\n",
       "      <th>Storage</th>\n",
       "      <th>Rating</th>\n",
       "      <th>Selling Price</th>\n",
       "      <th>Original Price</th>\n",
       "    </tr>\n",
       "  </thead>\n",
       "  <tbody>\n",
       "    <tr>\n",
       "      <th>0</th>\n",
       "      <td>OPPO</td>\n",
       "      <td>A53</td>\n",
       "      <td>Moonlight Black</td>\n",
       "      <td>4 GB</td>\n",
       "      <td>64 GB</td>\n",
       "      <td>4.5</td>\n",
       "      <td>11990.0</td>\n",
       "      <td>15990.0</td>\n",
       "    </tr>\n",
       "    <tr>\n",
       "      <th>1</th>\n",
       "      <td>OPPO</td>\n",
       "      <td>A53</td>\n",
       "      <td>Mint Cream</td>\n",
       "      <td>4 GB</td>\n",
       "      <td>64 GB</td>\n",
       "      <td>4.5</td>\n",
       "      <td>11990.0</td>\n",
       "      <td>15990.0</td>\n",
       "    </tr>\n",
       "    <tr>\n",
       "      <th>2</th>\n",
       "      <td>OPPO</td>\n",
       "      <td>A53</td>\n",
       "      <td>Moonlight Black</td>\n",
       "      <td>6 GB</td>\n",
       "      <td>128 GB</td>\n",
       "      <td>4.3</td>\n",
       "      <td>13990.0</td>\n",
       "      <td>17990.0</td>\n",
       "    </tr>\n",
       "    <tr>\n",
       "      <th>3</th>\n",
       "      <td>OPPO</td>\n",
       "      <td>A53</td>\n",
       "      <td>Mint Cream</td>\n",
       "      <td>6 GB</td>\n",
       "      <td>128 GB</td>\n",
       "      <td>4.3</td>\n",
       "      <td>13990.0</td>\n",
       "      <td>17990.0</td>\n",
       "    </tr>\n",
       "    <tr>\n",
       "      <th>4</th>\n",
       "      <td>OPPO</td>\n",
       "      <td>A53</td>\n",
       "      <td>Electric Black</td>\n",
       "      <td>4 GB</td>\n",
       "      <td>64 GB</td>\n",
       "      <td>4.5</td>\n",
       "      <td>11990.0</td>\n",
       "      <td>15990.0</td>\n",
       "    </tr>\n",
       "    <tr>\n",
       "      <th>5</th>\n",
       "      <td>OPPO</td>\n",
       "      <td>A53</td>\n",
       "      <td>Electric Black</td>\n",
       "      <td>6 GB</td>\n",
       "      <td>128 GB</td>\n",
       "      <td>4.3</td>\n",
       "      <td>13990.0</td>\n",
       "      <td>17990.0</td>\n",
       "    </tr>\n",
       "    <tr>\n",
       "      <th>6</th>\n",
       "      <td>OPPO</td>\n",
       "      <td>A12</td>\n",
       "      <td>Deep Blue</td>\n",
       "      <td>4 GB</td>\n",
       "      <td>64 GB</td>\n",
       "      <td>4.4</td>\n",
       "      <td>10490.0</td>\n",
       "      <td>11990.0</td>\n",
       "    </tr>\n",
       "    <tr>\n",
       "      <th>7</th>\n",
       "      <td>OPPO</td>\n",
       "      <td>A12</td>\n",
       "      <td>Black</td>\n",
       "      <td>3 GB</td>\n",
       "      <td>32 GB</td>\n",
       "      <td>4.4</td>\n",
       "      <td>9490.0</td>\n",
       "      <td>10990.0</td>\n",
       "    </tr>\n",
       "    <tr>\n",
       "      <th>8</th>\n",
       "      <td>OPPO</td>\n",
       "      <td>A12</td>\n",
       "      <td>Blue</td>\n",
       "      <td>3 GB</td>\n",
       "      <td>32 GB</td>\n",
       "      <td>4.4</td>\n",
       "      <td>9490.0</td>\n",
       "      <td>10990.0</td>\n",
       "    </tr>\n",
       "    <tr>\n",
       "      <th>9</th>\n",
       "      <td>OPPO</td>\n",
       "      <td>A12</td>\n",
       "      <td>Flowing Silver</td>\n",
       "      <td>3 GB</td>\n",
       "      <td>32 GB</td>\n",
       "      <td>4.4</td>\n",
       "      <td>9490.0</td>\n",
       "      <td>10990.0</td>\n",
       "    </tr>\n",
       "  </tbody>\n",
       "</table>\n",
       "</div>"
      ],
      "text/plain": [
       "  Brand Model            Color Memory Storage  Rating  Selling Price  \\\n",
       "0  OPPO   A53  Moonlight Black   4 GB   64 GB     4.5        11990.0   \n",
       "1  OPPO   A53       Mint Cream   4 GB   64 GB     4.5        11990.0   \n",
       "2  OPPO   A53  Moonlight Black   6 GB  128 GB     4.3        13990.0   \n",
       "3  OPPO   A53       Mint Cream   6 GB  128 GB     4.3        13990.0   \n",
       "4  OPPO   A53   Electric Black   4 GB   64 GB     4.5        11990.0   \n",
       "5  OPPO   A53   Electric Black   6 GB  128 GB     4.3        13990.0   \n",
       "6  OPPO   A12        Deep Blue   4 GB   64 GB     4.4        10490.0   \n",
       "7  OPPO   A12            Black   3 GB   32 GB     4.4         9490.0   \n",
       "8  OPPO   A12             Blue   3 GB   32 GB     4.4         9490.0   \n",
       "9  OPPO   A12   Flowing Silver   3 GB   32 GB     4.4         9490.0   \n",
       "\n",
       "   Original Price  \n",
       "0         15990.0  \n",
       "1         15990.0  \n",
       "2         17990.0  \n",
       "3         17990.0  \n",
       "4         15990.0  \n",
       "5         17990.0  \n",
       "6         11990.0  \n",
       "7         10990.0  \n",
       "8         10990.0  \n",
       "9         10990.0  "
      ]
     },
     "execution_count": 117,
     "metadata": {},
     "output_type": "execute_result"
    }
   ],
   "source": [
    "df.head(10)"
   ]
  },
  {
   "cell_type": "code",
   "execution_count": 100,
   "metadata": {},
   "outputs": [
    {
     "name": "stdout",
     "output_type": "stream",
     "text": [
      "<class 'pandas.core.frame.DataFrame'>\n",
      "RangeIndex: 323 entries, 0 to 322\n",
      "Data columns (total 8 columns):\n",
      " #   Column          Non-Null Count  Dtype  \n",
      "---  ------          --------------  -----  \n",
      " 0   Brand           323 non-null    object \n",
      " 1   Model           323 non-null    object \n",
      " 2   Color           323 non-null    object \n",
      " 3   Memory          323 non-null    object \n",
      " 4   Storage         323 non-null    object \n",
      " 5   Rating          323 non-null    float64\n",
      " 6   Selling Price   323 non-null    float64\n",
      " 7   Original Price  323 non-null    float64\n",
      "dtypes: float64(3), object(5)\n",
      "memory usage: 20.3+ KB\n"
     ]
    }
   ],
   "source": [
    "# lets check the other information\n",
    "df.info()"
   ]
  },
  {
   "cell_type": "markdown",
   "metadata": {},
   "source": [
    "### Distribution of selling price and originial price"
   ]
  },
  {
   "cell_type": "code",
   "execution_count": 101,
   "metadata": {},
   "outputs": [
    {
     "data": {
      "image/png": "[encoded data removed]",
      "text/plain": [
       "<Figure size 1368x576 with 2 Axes>"
      ]
     },
     "metadata": {},
     "output_type": "display_data"
    }
   ],
   "source": [
    "plt.style.use(\"seaborn\")\n",
    "plt.figure(figsize=(19,8))\n",
    "plt.subplot(1,2,1)\n",
    "plt.title(\"Dist of Selling Price\")\n",
    "df[\"Selling Price\"].plot.kde()\n",
    "plt.subplot(1,2,2)\n",
    "plt.title(\"Dist of Original Price\")\n",
    "df[\"Original Price\"].plot.kde()\n",
    "plt.show()"
   ]
  },
  {
   "cell_type": "code",
   "execution_count": 102,
   "metadata": {},
   "outputs": [
    {
     "data": {
      "text/html": [
       "<div>\n",
       "<style scoped>\n",
       "    .dataframe tbody tr th:only-of-type {\n",
       "        vertical-align: middle;\n",
       "    }\n",
       "\n",
       "    .dataframe tbody tr th {\n",
       "        vertical-align: top;\n",
       "    }\n",
       "\n",
       "    .dataframe thead th {\n",
       "        text-align: right;\n",
       "    }\n",
       "</style>\n",
       "<table border=\"1\" class=\"dataframe\">\n",
       "  <thead>\n",
       "    <tr style=\"text-align: right;\">\n",
       "      <th></th>\n",
       "      <th>Rating</th>\n",
       "      <th>Selling Price</th>\n",
       "      <th>Original Price</th>\n",
       "    </tr>\n",
       "  </thead>\n",
       "  <tbody>\n",
       "    <tr>\n",
       "      <th>count</th>\n",
       "      <td>323.000000</td>\n",
       "      <td>323.000000</td>\n",
       "      <td>323.000000</td>\n",
       "    </tr>\n",
       "    <tr>\n",
       "      <th>mean</th>\n",
       "      <td>4.020124</td>\n",
       "      <td>16974.613003</td>\n",
       "      <td>19749.479876</td>\n",
       "    </tr>\n",
       "    <tr>\n",
       "      <th>std</th>\n",
       "      <td>1.169779</td>\n",
       "      <td>8573.998098</td>\n",
       "      <td>9604.777649</td>\n",
       "    </tr>\n",
       "    <tr>\n",
       "      <th>min</th>\n",
       "      <td>0.000000</td>\n",
       "      <td>4999.000000</td>\n",
       "      <td>6999.000000</td>\n",
       "    </tr>\n",
       "    <tr>\n",
       "      <th>25%</th>\n",
       "      <td>4.300000</td>\n",
       "      <td>10499.000000</td>\n",
       "      <td>12990.000000</td>\n",
       "    </tr>\n",
       "    <tr>\n",
       "      <th>50%</th>\n",
       "      <td>4.400000</td>\n",
       "      <td>14999.000000</td>\n",
       "      <td>17990.000000</td>\n",
       "    </tr>\n",
       "    <tr>\n",
       "      <th>75%</th>\n",
       "      <td>4.400000</td>\n",
       "      <td>19990.000000</td>\n",
       "      <td>22999.000000</td>\n",
       "    </tr>\n",
       "    <tr>\n",
       "      <th>max</th>\n",
       "      <td>4.500000</td>\n",
       "      <td>49990.000000</td>\n",
       "      <td>55990.000000</td>\n",
       "    </tr>\n",
       "  </tbody>\n",
       "</table>\n",
       "</div>"
      ],
      "text/plain": [
       "           Rating  Selling Price  Original Price\n",
       "count  323.000000     323.000000      323.000000\n",
       "mean     4.020124   16974.613003    19749.479876\n",
       "std      1.169779    8573.998098     9604.777649\n",
       "min      0.000000    4999.000000     6999.000000\n",
       "25%      4.300000   10499.000000    12990.000000\n",
       "50%      4.400000   14999.000000    17990.000000\n",
       "75%      4.400000   19990.000000    22999.000000\n",
       "max      4.500000   49990.000000    55990.000000"
      ]
     },
     "execution_count": 102,
     "metadata": {},
     "output_type": "execute_result"
    }
   ],
   "source": [
    "df.describe()"
   ]
  },
  {
   "cell_type": "markdown",
   "metadata": {},
   "source": [
    "### highest rating so far"
   ]
  },
  {
   "cell_type": "code",
   "execution_count": 103,
   "metadata": {},
   "outputs": [
    {
     "data": {
      "image/png": "[encoded data removed]",
      "text/plain": [
       "<Figure size 864x432 with 1 Axes>"
      ]
     },
     "metadata": {},
     "output_type": "display_data"
    }
   ],
   "source": [
    "plt.figure(figsize=(12,6))\n",
    "bins = np.arange(0,6,0.2)\n",
    "plt.style.use(\"seaborn\")\n",
    "plt.hist(df[\"Rating\"], bins=bins, color=\"#bdb2ff\")\n",
    "plt.title(\"Ratings outta 5\", fontdict={\"fontname\":\"impact\",\"fontsize\":20})\n",
    "plt.xlabel(\"Rating\", fontdict={\"fontname\":\"monospace\",\"fontsize\":18})\n",
    "plt.show()"
   ]
  },
  {
   "cell_type": "code",
   "execution_count": 104,
   "metadata": {},
   "outputs": [
    {
     "name": "stdout",
     "output_type": "stream",
     "text": [
      "the highest rating so far: 4.5\n",
      "the average rating so far: 4.020123839009288\n"
     ]
    }
   ],
   "source": [
    "max_rate = df[\"Rating\"].max()\n",
    "avg_rate = df[\"Rating\"].mean()\n",
    "print(f\"the highest rating so far: {max_rate}\\nthe average rating so far: {avg_rate}\")"
   ]
  },
  {
   "cell_type": "markdown",
   "metadata": {},
   "source": [
    "### Different price segment, & what segment sells better"
   ]
  },
  {
   "cell_type": "code",
   "execution_count": 105,
   "metadata": {},
   "outputs": [],
   "source": [
    "under13k = df[(df[\"Selling Price\"]>3000.0) & (df[\"Selling Price\"]<=13000.0)] #3k-13k\n",
    "under23k = df[(df[\"Selling Price\"]>13000.0) & (df[\"Selling Price\"]<=23000.0)] #14k-23k\n",
    "under33k = df[(df[\"Selling Price\"]>23000.0) & (df[\"Selling Price\"]<=33000.0)] #24k-33k\n",
    "under43k = df[(df[\"Selling Price\"]>33000.0) & (df[\"Selling Price\"]<=43000.0)] #34k-43k\n",
    "above43 = df[df[\"Selling Price\"]>43000.0]"
   ]
  },
  {
   "cell_type": "code",
   "execution_count": 106,
   "metadata": {},
   "outputs": [
    {
     "data": {
      "image/png": "[encoded data removed]",
      "text/plain": [
       "<Figure size 576x576 with 1 Axes>"
      ]
     },
     "metadata": {},
     "output_type": "display_data"
    }
   ],
   "source": [
    "plt.figure(figsize=(8,8))\n",
    "plt.style.use(\"seaborn\")\n",
    "plt.pie([len(under13k),len(under23k),len(under33k),len(under43k),len(above43)],labels=[\"3k-13k\",\"14k-23k\",\"24k-33k\",\"34k-43k\",\"above 43k\"], autopct=\"%.1f%%\")\n",
    "plt.title(\"Budget Preference\", fontdict={\"fontsize\":19, \"fontname\":\"impact\"})\n",
    "plt.legend()\n",
    "plt.show()"
   ]
  },
  {
   "cell_type": "code",
   "execution_count": 107,
   "metadata": {},
   "outputs": [
    {
     "data": {
      "text/plain": [
       "realme    23\n",
       "OPPO      14\n",
       "vivo       2\n",
       "Name: Brand, dtype: int64"
      ]
     },
     "execution_count": 107,
     "metadata": {},
     "output_type": "execute_result"
    }
   ],
   "source": [
    "df.loc[df[\"Rating\"]>=4.5, \"Brand\"].value_counts()"
   ]
  },
  {
   "cell_type": "markdown",
   "metadata": {},
   "source": [
    "#### most specs offered by these brand"
   ]
  },
  {
   "cell_type": "code",
   "execution_count": 108,
   "metadata": {},
   "outputs": [
    {
     "data": {
      "image/png": "[encoded data removed]",
      "text/plain": [
       "<Figure size 1296x576 with 2 Axes>"
      ]
     },
     "metadata": {},
     "output_type": "display_data"
    }
   ],
   "source": [
    "plt.figure(figsize=(18,8))\n",
    "plt.subplot(1,2,1)\n",
    "plt.hist(df[\"Memory\"])\n",
    "plt.subplot(1,2,2)\n",
    "plt.hist(df[\"Storage\"])\n",
    "\n",
    "plt.show()"
   ]
  },
  {
   "cell_type": "markdown",
   "metadata": {},
   "source": [
    "#### what colors sells the most?"
   ]
  },
  {
   "cell_type": "code",
   "execution_count": 109,
   "metadata": {},
   "outputs": [
    {
     "data": {
      "text/plain": [
       "0    Black\n",
       "dtype: object"
      ]
     },
     "execution_count": 109,
     "metadata": {},
     "output_type": "execute_result"
    }
   ],
   "source": [
    "df[\"Color\"].mode()"
   ]
  },
  {
   "cell_type": "markdown",
   "metadata": {},
   "source": [
    "#### now its says that Black color sells the most"
   ]
  },
  {
   "cell_type": "code",
   "execution_count": 110,
   "metadata": {},
   "outputs": [
    {
     "data": {
      "text/html": [
       "<div>\n",
       "<style scoped>\n",
       "    .dataframe tbody tr th:only-of-type {\n",
       "        vertical-align: middle;\n",
       "    }\n",
       "\n",
       "    .dataframe tbody tr th {\n",
       "        vertical-align: top;\n",
       "    }\n",
       "\n",
       "    .dataframe thead th {\n",
       "        text-align: right;\n",
       "    }\n",
       "</style>\n",
       "<table border=\"1\" class=\"dataframe\">\n",
       "  <thead>\n",
       "    <tr style=\"text-align: right;\">\n",
       "      <th></th>\n",
       "      <th>Brand</th>\n",
       "      <th>Model</th>\n",
       "      <th>Color</th>\n",
       "      <th>Memory</th>\n",
       "      <th>Storage</th>\n",
       "      <th>Rating</th>\n",
       "      <th>Selling Price</th>\n",
       "      <th>Original Price</th>\n",
       "    </tr>\n",
       "  </thead>\n",
       "  <tbody>\n",
       "    <tr>\n",
       "      <th>7</th>\n",
       "      <td>OPPO</td>\n",
       "      <td>A12</td>\n",
       "      <td>Black</td>\n",
       "      <td>3 GB</td>\n",
       "      <td>32 GB</td>\n",
       "      <td>4.4</td>\n",
       "      <td>9490.0</td>\n",
       "      <td>10990.0</td>\n",
       "    </tr>\n",
       "    <tr>\n",
       "      <th>74</th>\n",
       "      <td>OPPO</td>\n",
       "      <td>A5s</td>\n",
       "      <td>Black</td>\n",
       "      <td>3 GB</td>\n",
       "      <td>32 GB</td>\n",
       "      <td>4.4</td>\n",
       "      <td>9490.0</td>\n",
       "      <td>12990.0</td>\n",
       "    </tr>\n",
       "    <tr>\n",
       "      <th>89</th>\n",
       "      <td>OPPO</td>\n",
       "      <td>A1K</td>\n",
       "      <td>Black</td>\n",
       "      <td>2 GB</td>\n",
       "      <td>32 GB</td>\n",
       "      <td>4.3</td>\n",
       "      <td>7990.0</td>\n",
       "      <td>10990.0</td>\n",
       "    </tr>\n",
       "    <tr>\n",
       "      <th>96</th>\n",
       "      <td>OPPO</td>\n",
       "      <td>A5s</td>\n",
       "      <td>Black</td>\n",
       "      <td>4 GB</td>\n",
       "      <td>64 GB</td>\n",
       "      <td>4.4</td>\n",
       "      <td>10990.0</td>\n",
       "      <td>15990.0</td>\n",
       "    </tr>\n",
       "    <tr>\n",
       "      <th>111</th>\n",
       "      <td>OPPO</td>\n",
       "      <td>Neo 5</td>\n",
       "      <td>Black</td>\n",
       "      <td>1 GB</td>\n",
       "      <td>16 GB</td>\n",
       "      <td>3.8</td>\n",
       "      <td>4999.0</td>\n",
       "      <td>7856.0</td>\n",
       "    </tr>\n",
       "    <tr>\n",
       "      <th>217</th>\n",
       "      <td>realme</td>\n",
       "      <td>1</td>\n",
       "      <td>Black</td>\n",
       "      <td>4 GB</td>\n",
       "      <td>64 GB</td>\n",
       "      <td>4.4</td>\n",
       "      <td>10990.0</td>\n",
       "      <td>14990.0</td>\n",
       "    </tr>\n",
       "    <tr>\n",
       "      <th>285</th>\n",
       "      <td>realme</td>\n",
       "      <td>3</td>\n",
       "      <td>Black</td>\n",
       "      <td>3 GB</td>\n",
       "      <td>32 GB</td>\n",
       "      <td>4.5</td>\n",
       "      <td>8499.0</td>\n",
       "      <td>10999.0</td>\n",
       "    </tr>\n",
       "    <tr>\n",
       "      <th>286</th>\n",
       "      <td>realme</td>\n",
       "      <td>3</td>\n",
       "      <td>Black</td>\n",
       "      <td>4 GB</td>\n",
       "      <td>64 GB</td>\n",
       "      <td>4.4</td>\n",
       "      <td>10499.0</td>\n",
       "      <td>12999.0</td>\n",
       "    </tr>\n",
       "  </tbody>\n",
       "</table>\n",
       "</div>"
      ],
      "text/plain": [
       "      Brand  Model  Color Memory Storage  Rating  Selling Price  \\\n",
       "7      OPPO    A12  Black   3 GB   32 GB     4.4         9490.0   \n",
       "74     OPPO    A5s  Black   3 GB   32 GB     4.4         9490.0   \n",
       "89     OPPO    A1K  Black   2 GB   32 GB     4.3         7990.0   \n",
       "96     OPPO    A5s  Black   4 GB   64 GB     4.4        10990.0   \n",
       "111    OPPO  Neo 5  Black   1 GB   16 GB     3.8         4999.0   \n",
       "217  realme      1  Black   4 GB   64 GB     4.4        10990.0   \n",
       "285  realme      3  Black   3 GB   32 GB     4.5         8499.0   \n",
       "286  realme      3  Black   4 GB   64 GB     4.4        10499.0   \n",
       "\n",
       "     Original Price  \n",
       "7           10990.0  \n",
       "74          12990.0  \n",
       "89          10990.0  \n",
       "96          15990.0  \n",
       "111          7856.0  \n",
       "217         14990.0  \n",
       "285         10999.0  \n",
       "286         12999.0  "
      ]
     },
     "execution_count": 110,
     "metadata": {},
     "output_type": "execute_result"
    }
   ],
   "source": [
    "df[df[\"Color\"]==\"Black\"]"
   ]
  },
  {
   "cell_type": "code",
   "execution_count": 111,
   "metadata": {},
   "outputs": [
    {
     "data": {
      "text/plain": [
       "Black             8\n",
       "Dynamic Black     6\n",
       "Diamond Black     5\n",
       "Cross Black       4\n",
       "Midnight Black    3\n",
       "Name: Color, dtype: int64"
      ]
     },
     "execution_count": 111,
     "metadata": {},
     "output_type": "execute_result"
    }
   ],
   "source": [
    "col_var = df.loc[df[\"Color\"].str.contains(\"Black\"), \"Color\"].value_counts().sort_values(ascending=False).head()\n",
    "col_var"
   ]
  },
  {
   "cell_type": "markdown",
   "metadata": {},
   "source": [
    "### Black and its Variants sell the most, we prepared a different data for them"
   ]
  },
  {
   "cell_type": "code",
   "execution_count": 112,
   "metadata": {},
   "outputs": [
    {
     "data": {
      "text/html": [
       "<div>\n",
       "<style scoped>\n",
       "    .dataframe tbody tr th:only-of-type {\n",
       "        vertical-align: middle;\n",
       "    }\n",
       "\n",
       "    .dataframe tbody tr th {\n",
       "        vertical-align: top;\n",
       "    }\n",
       "\n",
       "    .dataframe thead th {\n",
       "        text-align: right;\n",
       "    }\n",
       "</style>\n",
       "<table border=\"1\" class=\"dataframe\">\n",
       "  <thead>\n",
       "    <tr style=\"text-align: right;\">\n",
       "      <th></th>\n",
       "      <th>Brand</th>\n",
       "      <th>Model</th>\n",
       "      <th>Color</th>\n",
       "      <th>Memory</th>\n",
       "      <th>Storage</th>\n",
       "      <th>Rating</th>\n",
       "      <th>Selling Price</th>\n",
       "      <th>Original Price</th>\n",
       "    </tr>\n",
       "  </thead>\n",
       "  <tbody>\n",
       "    <tr>\n",
       "      <th>7</th>\n",
       "      <td>OPPO</td>\n",
       "      <td>A12</td>\n",
       "      <td>Black</td>\n",
       "      <td>3 GB</td>\n",
       "      <td>32 GB</td>\n",
       "      <td>4.4</td>\n",
       "      <td>9490.0</td>\n",
       "      <td>10990.0</td>\n",
       "    </tr>\n",
       "    <tr>\n",
       "      <th>32</th>\n",
       "      <td>OPPO</td>\n",
       "      <td>A15</td>\n",
       "      <td>Dynamic Black</td>\n",
       "      <td>3 GB</td>\n",
       "      <td>32 GB</td>\n",
       "      <td>4.3</td>\n",
       "      <td>10990.0</td>\n",
       "      <td>12990.0</td>\n",
       "    </tr>\n",
       "    <tr>\n",
       "      <th>37</th>\n",
       "      <td>OPPO</td>\n",
       "      <td>Reno3 Pro</td>\n",
       "      <td>Midnight Black</td>\n",
       "      <td>8 GB</td>\n",
       "      <td>256 GB</td>\n",
       "      <td>4.4</td>\n",
       "      <td>26798.0</td>\n",
       "      <td>28989.0</td>\n",
       "    </tr>\n",
       "    <tr>\n",
       "      <th>39</th>\n",
       "      <td>OPPO</td>\n",
       "      <td>A15s</td>\n",
       "      <td>Dynamic Black</td>\n",
       "      <td>4 GB</td>\n",
       "      <td>64 GB</td>\n",
       "      <td>4.3</td>\n",
       "      <td>12990.0</td>\n",
       "      <td>13990.0</td>\n",
       "    </tr>\n",
       "    <tr>\n",
       "      <th>61</th>\n",
       "      <td>OPPO</td>\n",
       "      <td>Reno3 Pro</td>\n",
       "      <td>Midnight Black</td>\n",
       "      <td>8 GB</td>\n",
       "      <td>128 GB</td>\n",
       "      <td>4.4</td>\n",
       "      <td>24768.0</td>\n",
       "      <td>24990.0</td>\n",
       "    </tr>\n",
       "  </tbody>\n",
       "</table>\n",
       "</div>"
      ],
      "text/plain": [
       "   Brand      Model           Color Memory Storage  Rating  Selling Price  \\\n",
       "7   OPPO        A12           Black   3 GB   32 GB     4.4         9490.0   \n",
       "32  OPPO        A15   Dynamic Black   3 GB   32 GB     4.3        10990.0   \n",
       "37  OPPO  Reno3 Pro  Midnight Black   8 GB  256 GB     4.4        26798.0   \n",
       "39  OPPO       A15s   Dynamic Black   4 GB   64 GB     4.3        12990.0   \n",
       "61  OPPO  Reno3 Pro  Midnight Black   8 GB  128 GB     4.4        24768.0   \n",
       "\n",
       "    Original Price  \n",
       "7          10990.0  \n",
       "32         12990.0  \n",
       "37         28989.0  \n",
       "39         13990.0  \n",
       "61         24990.0  "
      ]
     },
     "execution_count": 112,
     "metadata": {},
     "output_type": "execute_result"
    }
   ],
   "source": [
    "black_col = df.loc[df[\"Color\"].isin([\"Black\",\"Dynamic Black\",\"Diamond Black\",\"Cross Black\",\"Midnight Black\"])]\n",
    "black_col.head()"
   ]
  },
  {
   "cell_type": "markdown",
   "metadata": {},
   "source": [
    "### what is the price distrubution for these colors cell phone"
   ]
  },
  {
   "cell_type": "code",
   "execution_count": 113,
   "metadata": {},
   "outputs": [
    {
     "data": {
      "image/png": "[encoded data removed]",
      "text/plain": [
       "<Figure size 1080x432 with 2 Axes>"
      ]
     },
     "metadata": {},
     "output_type": "display_data"
    }
   ],
   "source": [
    "plt.figure(figsize=(15,6))\n",
    "plt.subplot(1,2,1)\n",
    "black_col[\"Selling Price\"].plot.kde()\n",
    "plt.title(\"Price Distribution with Color Black\")\n",
    "plt.subplot(1,2,2)\n",
    "black_col[\"Rating\"].hist()\n",
    "plt.title(\"Rating with Color Black\")\n",
    "\n",
    "plt.show()"
   ]
  },
  {
   "cell_type": "code",
   "execution_count": 114,
   "metadata": {},
   "outputs": [
    {
     "data": {
      "image/png": "[encoded data removed]",
      "text/plain": [
       "<Figure size 1152x432 with 2 Axes>"
      ]
     },
     "metadata": {},
     "output_type": "display_data"
    }
   ],
   "source": [
    "plt.figure(figsize=(16,6))\n",
    "plt.subplot(1,2,1)\n",
    "black_col[\"Memory\"].hist()\n",
    "plt.title(\"RAM with Color Black\")\n",
    "plt.subplot(1,2,2)\n",
    "black_col[\"Storage\"].hist()\n",
    "plt.title(\"Storage with Color Black\")\n",
    "plt.show()"
   ]
  },
  {
   "cell_type": "markdown",
   "metadata": {},
   "source": [
    "### These black color plays valuable role, most of the black color cell phone have 3GB RAM & 32GB ROM, followed by 4GB & 64GB"
   ]
  },
  {
   "cell_type": "markdown",
   "metadata": {},
   "source": [
    "## which brand among these three manufactures most black color phones"
   ]
  },
  {
   "cell_type": "code",
   "execution_count": 136,
   "metadata": {},
   "outputs": [
    {
     "data": {
      "image/png": "[encoded data removed]",
      "text/plain": [
       "<Figure size 1224x432 with 2 Axes>"
      ]
     },
     "metadata": {},
     "output_type": "display_data"
    }
   ],
   "source": [
    "plt.figure(figsize=(17,6))\n",
    "plt.subplot(1,2,1)\n",
    "black_col[\"Brand\"].hist()\n",
    "plt.title(\"Black Color Manufacture\")\n",
    "plt.subplot(1,2,2)\n",
    "df[\"Brand\"].hist()\n",
    "plt.title(\"Normal Manufacture\")\n",
    "plt.show()"
   ]
  },
  {
   "cell_type": "markdown",
   "metadata": {},
   "source": [
    "### As you can see, Realme rules the market, even in manufacturing the best color cell phones"
   ]
  },
  {
   "cell_type": "markdown",
   "metadata": {},
   "source": [
    "#### These three brands belong to a single company known as BBK Electronics"
   ]
  }
 ],
 "metadata": {
  "interpreter": {
   "hash": "8d0b9119297c7b917d9b9d94c5eec7698d33929c8b91f5c42ae56e63b7273e8b"
  },
  "kernelspec": {
   "display_name": "Python 3.9.5 64-bit",
   "language": "python",
   "name": "python3"
  },
  "language_info": {
   "codemirror_mode": {
    "name": "ipython",
    "version": 3
   },
   "file_extension": ".py",
   "mimetype": "text/x-python",
   "name": "python",
   "nbconvert_exporter": "python",
   "pygments_lexer": "ipython3",
   "version": "3.9.5"
  },
  "orig_nbformat": 4
 },
 "nbformat": 4,
 "nbformat_minor": 2
}
